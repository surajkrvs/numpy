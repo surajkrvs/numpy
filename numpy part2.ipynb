{
 "cells": [
  {
   "cell_type": "code",
   "execution_count": 89,
   "id": "28df0aff-b2cf-4fb1-97fd-914c0bab933f",
   "metadata": {},
   "outputs": [],
   "source": [
    "import numpy as np"
   ]
  },
  {
   "cell_type": "code",
   "execution_count": 90,
   "id": "a7ade0eb-b582-49cc-8db7-de5a9826643d",
   "metadata": {},
   "outputs": [
    {
     "data": {
      "text/plain": [
       "array([1, 2, 3])"
      ]
     },
     "execution_count": 90,
     "metadata": {},
     "output_type": "execute_result"
    }
   ],
   "source": [
    "np.array([1,2,3])"
   ]
  },
  {
   "cell_type": "code",
   "execution_count": 91,
   "id": "21d6dbc1-cb86-4228-b25d-e16d850b531d",
   "metadata": {},
   "outputs": [],
   "source": [
    "arr = np.random.randint(1,10,(3,4))"
   ]
  },
  {
   "cell_type": "code",
   "execution_count": 92,
   "id": "f6f01323-5468-4425-a0c2-8d75cba198ba",
   "metadata": {},
   "outputs": [
    {
     "data": {
      "text/plain": [
       "array([[6, 8, 1, 8],\n",
       "       [7, 5, 9, 4],\n",
       "       [9, 9, 5, 5]])"
      ]
     },
     "execution_count": 92,
     "metadata": {},
     "output_type": "execute_result"
    }
   ],
   "source": [
    "arr"
   ]
  },
  {
   "cell_type": "code",
   "execution_count": 93,
   "id": "8dee2972-98de-42b9-92f8-4b52d912d7fd",
   "metadata": {},
   "outputs": [
    {
     "data": {
      "text/plain": [
       "array([[6, 8],\n",
       "       [1, 8],\n",
       "       [7, 5],\n",
       "       [9, 4],\n",
       "       [9, 9],\n",
       "       [5, 5]])"
      ]
     },
     "execution_count": 93,
     "metadata": {},
     "output_type": "execute_result"
    }
   ],
   "source": [
    "arr.reshape(6,2)"
   ]
  },
  {
   "cell_type": "code",
   "execution_count": 94,
   "id": "6f98b140-f6c0-4884-99ff-e80bbab89161",
   "metadata": {},
   "outputs": [
    {
     "data": {
      "text/plain": [
       "array([[6, 8, 1, 8, 7, 5],\n",
       "       [9, 4, 9, 9, 5, 5]])"
      ]
     },
     "execution_count": 94,
     "metadata": {},
     "output_type": "execute_result"
    }
   ],
   "source": [
    "arr.reshape(2,6)"
   ]
  },
  {
   "cell_type": "code",
   "execution_count": 95,
   "id": "90c4a1bc-1d21-47e0-bcd5-1c7ec8dbc499",
   "metadata": {},
   "outputs": [
    {
     "data": {
      "text/plain": [
       "array([[6, 8, 1, 8, 7, 5],\n",
       "       [9, 4, 9, 9, 5, 5]])"
      ]
     },
     "execution_count": 95,
     "metadata": {},
     "output_type": "execute_result"
    }
   ],
   "source": [
    "arr.reshape(2, -34567)"
   ]
  },
  {
   "cell_type": "code",
   "execution_count": 96,
   "id": "fd0418ae-619c-4d22-a548-1d88a00fbb55",
   "metadata": {},
   "outputs": [
    {
     "data": {
      "text/plain": [
       "array([[6, 7, 9],\n",
       "       [8, 5, 9],\n",
       "       [1, 9, 5],\n",
       "       [8, 4, 5]])"
      ]
     },
     "execution_count": 96,
     "metadata": {},
     "output_type": "execute_result"
    }
   ],
   "source": [
    "arr.T"
   ]
  },
  {
   "cell_type": "code",
   "execution_count": 97,
   "id": "0317821a-956d-450e-95d2-5ef1609075e7",
   "metadata": {},
   "outputs": [
    {
     "data": {
      "text/plain": [
       "array([6, 8, 1, 8, 7, 5, 9, 4, 9, 9, 5, 5])"
      ]
     },
     "execution_count": 97,
     "metadata": {},
     "output_type": "execute_result"
    }
   ],
   "source": [
    "arr.flatten()"
   ]
  },
  {
   "cell_type": "code",
   "execution_count": 98,
   "id": "99ffcf71-029e-47d8-9da8-92cc547f0542",
   "metadata": {},
   "outputs": [],
   "source": [
    "arr1 = np.array([1,2,3,4])"
   ]
  },
  {
   "cell_type": "code",
   "execution_count": 99,
   "id": "dc841bc8-9461-46a2-9b5e-d85df5fabf21",
   "metadata": {},
   "outputs": [
    {
     "data": {
      "text/plain": [
       "array([1, 2, 3, 4])"
      ]
     },
     "execution_count": 99,
     "metadata": {},
     "output_type": "execute_result"
    }
   ],
   "source": [
    "arr1"
   ]
  },
  {
   "cell_type": "code",
   "execution_count": 100,
   "id": "d6f72ac9-0647-49e6-86c9-df834824a8f4",
   "metadata": {},
   "outputs": [
    {
     "data": {
      "text/plain": [
       "1"
      ]
     },
     "execution_count": 100,
     "metadata": {},
     "output_type": "execute_result"
    }
   ],
   "source": [
    "arr1.ndim"
   ]
  },
  {
   "cell_type": "code",
   "execution_count": 101,
   "id": "9764f955-e5ac-4091-9d9a-13af80f88694",
   "metadata": {},
   "outputs": [
    {
     "data": {
      "text/plain": [
       "array([[1, 2, 3, 4]])"
      ]
     },
     "execution_count": 101,
     "metadata": {},
     "output_type": "execute_result"
    }
   ],
   "source": [
    "np.expand_dims(arr1, axis = 0)"
   ]
  },
  {
   "cell_type": "code",
   "execution_count": 102,
   "id": "4d1e7815-c388-4ae7-96f0-801381b103c4",
   "metadata": {},
   "outputs": [
    {
     "data": {
      "text/plain": [
       "array([[6, 8, 1, 8],\n",
       "       [7, 5, 9, 4],\n",
       "       [9, 9, 5, 5]])"
      ]
     },
     "execution_count": 102,
     "metadata": {},
     "output_type": "execute_result"
    }
   ],
   "source": [
    "np.squeeze([arr])"
   ]
  },
  {
   "cell_type": "code",
   "execution_count": 103,
   "id": "4b6d1d8b-641b-44f9-9231-95cb7dbb95cd",
   "metadata": {},
   "outputs": [],
   "source": [
    "data = np.array([[1],[2],[3], [4]])"
   ]
  },
  {
   "cell_type": "code",
   "execution_count": 104,
   "id": "6003e304-54cd-4578-ab3a-fa8eaeb2b25e",
   "metadata": {},
   "outputs": [
    {
     "data": {
      "text/plain": [
       "array([[1],\n",
       "       [2],\n",
       "       [3],\n",
       "       [4]])"
      ]
     },
     "execution_count": 104,
     "metadata": {},
     "output_type": "execute_result"
    }
   ],
   "source": [
    "data"
   ]
  },
  {
   "cell_type": "code",
   "execution_count": 105,
   "id": "13b5889f-29f5-42ab-9fc9-85d3161a3367",
   "metadata": {},
   "outputs": [
    {
     "data": {
      "text/plain": [
       "array([1, 2, 3, 4])"
      ]
     },
     "execution_count": 105,
     "metadata": {},
     "output_type": "execute_result"
    }
   ],
   "source": [
    "np.squeeze([data])"
   ]
  },
  {
   "cell_type": "code",
   "execution_count": 106,
   "id": "1b36075a-8a5e-4a18-b7a6-ac00a449b2cb",
   "metadata": {},
   "outputs": [
    {
     "data": {
      "text/plain": [
       "array([1, 2, 3, 4])"
      ]
     },
     "execution_count": 106,
     "metadata": {},
     "output_type": "execute_result"
    }
   ],
   "source": [
    "arr1 "
   ]
  },
  {
   "cell_type": "code",
   "execution_count": 107,
   "id": "0635cd84-8d77-4e8c-bd7c-8ed3dd201f4f",
   "metadata": {},
   "outputs": [
    {
     "data": {
      "text/plain": [
       "array([1, 1, 1, 2, 2, 2, 3, 3, 3, 4, 4, 4])"
      ]
     },
     "execution_count": 107,
     "metadata": {},
     "output_type": "execute_result"
    }
   ],
   "source": [
    "np.repeat(arr1, 3)\n",
    "#use to repeat the element in array \n"
   ]
  },
  {
   "cell_type": "code",
   "execution_count": 108,
   "id": "43707f10-56f5-4584-b9f3-1232f7cf5e9f",
   "metadata": {},
   "outputs": [
    {
     "data": {
      "text/plain": [
       "array([2, 3, 4, 1])"
      ]
     },
     "execution_count": 108,
     "metadata": {},
     "output_type": "execute_result"
    }
   ],
   "source": [
    "np.roll(arr1,shift = 3 )"
   ]
  },
  {
   "cell_type": "code",
   "execution_count": 109,
   "id": "61cce26f-c091-4caf-bb2d-f4300b83582d",
   "metadata": {},
   "outputs": [
    {
     "data": {
      "text/plain": [
       "array([1, 2, 3, 4])"
      ]
     },
     "execution_count": 109,
     "metadata": {},
     "output_type": "execute_result"
    }
   ],
   "source": [
    "arr1"
   ]
  },
  {
   "cell_type": "code",
   "execution_count": 110,
   "id": "bd8d4db8-3904-4df8-a62e-20185656d996",
   "metadata": {},
   "outputs": [
    {
     "data": {
      "text/plain": [
       "array([1, 2, 3, 4])"
      ]
     },
     "execution_count": 110,
     "metadata": {},
     "output_type": "execute_result"
    }
   ],
   "source": [
    "arr1"
   ]
  },
  {
   "cell_type": "code",
   "execution_count": 111,
   "id": "c7a03d96-4ee5-4cf8-ba09-0aa14636b2b1",
   "metadata": {},
   "outputs": [
    {
     "data": {
      "text/plain": [
       "array([[1, 0, 0, 0],\n",
       "       [0, 2, 0, 0],\n",
       "       [0, 0, 3, 0],\n",
       "       [0, 0, 0, 4]])"
      ]
     },
     "execution_count": 111,
     "metadata": {},
     "output_type": "execute_result"
    }
   ],
   "source": [
    "np.diag(arr1)"
   ]
  },
  {
   "cell_type": "code",
   "execution_count": 112,
   "id": "8aa0a5e5-f157-4b99-8059-9d58c062ae6e",
   "metadata": {},
   "outputs": [],
   "source": [
    "#numpy - binary operation"
   ]
  },
  {
   "cell_type": "code",
   "execution_count": 113,
   "id": "1086d9cb-0133-4669-9c66-bc3f13d1617f",
   "metadata": {},
   "outputs": [],
   "source": [
    "arr12= np.random.randint(1,10,(3,4))\n"
   ]
  },
  {
   "cell_type": "code",
   "execution_count": 114,
   "id": "3197fa12-caa3-46b0-8fda-9bc815be96ce",
   "metadata": {},
   "outputs": [],
   "source": [
    "arr2= np.random.randint(1,10,(3,4))"
   ]
  },
  {
   "cell_type": "code",
   "execution_count": 115,
   "id": "34b83e62-cdc7-45e1-af6c-1f600b2f92b1",
   "metadata": {},
   "outputs": [
    {
     "data": {
      "text/plain": [
       "array([[7, 7, 8, 4],\n",
       "       [6, 1, 1, 8],\n",
       "       [9, 7, 6, 3]])"
      ]
     },
     "execution_count": 115,
     "metadata": {},
     "output_type": "execute_result"
    }
   ],
   "source": [
    "arr12"
   ]
  },
  {
   "cell_type": "code",
   "execution_count": 116,
   "id": "51716f76-79f6-491d-be7e-d88f322b4737",
   "metadata": {},
   "outputs": [
    {
     "data": {
      "text/plain": [
       "array([[1, 1, 2, 7],\n",
       "       [6, 3, 1, 6],\n",
       "       [1, 3, 9, 8]])"
      ]
     },
     "execution_count": 116,
     "metadata": {},
     "output_type": "execute_result"
    }
   ],
   "source": [
    "arr2"
   ]
  },
  {
   "cell_type": "code",
   "execution_count": 117,
   "id": "e501278b-cafc-4529-8bcc-5011d7753b38",
   "metadata": {},
   "outputs": [
    {
     "data": {
      "text/plain": [
       "array([[ 8,  8, 10, 11],\n",
       "       [12,  4,  2, 14],\n",
       "       [10, 10, 15, 11]])"
      ]
     },
     "execution_count": 117,
     "metadata": {},
     "output_type": "execute_result"
    }
   ],
   "source": [
    "arr2 + arr12"
   ]
  },
  {
   "cell_type": "code",
   "execution_count": 118,
   "id": "0e9f8555-b058-47e0-9141-0bf250aa6ccf",
   "metadata": {},
   "outputs": [
    {
     "data": {
      "text/plain": [
       "array([[ 7,  7, 16, 28],\n",
       "       [36,  3,  1, 48],\n",
       "       [ 9, 21, 54, 24]])"
      ]
     },
     "execution_count": 118,
     "metadata": {},
     "output_type": "execute_result"
    }
   ],
   "source": [
    "arr2 * arr12"
   ]
  },
  {
   "cell_type": "code",
   "execution_count": 119,
   "id": "a0eab077-c7ec-4f2a-b27b-9f591aec332f",
   "metadata": {},
   "outputs": [
    {
     "data": {
      "text/plain": [
       "array([[0.14285714, 0.14285714, 0.25      , 1.75      ],\n",
       "       [1.        , 3.        , 1.        , 0.75      ],\n",
       "       [0.11111111, 0.42857143, 1.5       , 2.66666667]])"
      ]
     },
     "execution_count": 119,
     "metadata": {},
     "output_type": "execute_result"
    }
   ],
   "source": [
    "arr2/arr12"
   ]
  },
  {
   "cell_type": "code",
   "execution_count": 120,
   "id": "9d126145-f343-4150-80c4-ceee1546057b",
   "metadata": {},
   "outputs": [
    {
     "data": {
      "text/plain": [
       "array([[-6, -6, -6,  3],\n",
       "       [ 0,  2,  0, -2],\n",
       "       [-8, -4,  3,  5]])"
      ]
     },
     "execution_count": 120,
     "metadata": {},
     "output_type": "execute_result"
    }
   ],
   "source": [
    "arr2 - arr12"
   ]
  },
  {
   "cell_type": "code",
   "execution_count": 121,
   "id": "d126d6d3-0da6-44bb-88c9-2b5b3b022083",
   "metadata": {},
   "outputs": [
    {
     "data": {
      "text/plain": [
       "array([[1, 1, 2, 3],\n",
       "       [0, 0, 0, 6],\n",
       "       [1, 3, 3, 2]])"
      ]
     },
     "execution_count": 121,
     "metadata": {},
     "output_type": "execute_result"
    }
   ],
   "source": [
    "arr2 %arr12"
   ]
  },
  {
   "cell_type": "code",
   "execution_count": 122,
   "id": "46daafa0-0c51-4d82-818a-5a5e29323778",
   "metadata": {},
   "outputs": [
    {
     "data": {
      "text/plain": [
       "array([[    1,   128,  6561,   256],\n",
       "       [    1,     2,     3, 65536],\n",
       "       [    1,   128,   729,    64]])"
      ]
     },
     "execution_count": 122,
     "metadata": {},
     "output_type": "execute_result"
    }
   ],
   "source": [
    "arr1 ** arr12"
   ]
  },
  {
   "cell_type": "code",
   "execution_count": 123,
   "id": "e5c52849-2bda-4e5e-95cc-51c9e1b9af85",
   "metadata": {},
   "outputs": [
    {
     "data": {
      "text/plain": [
       "array([[1, 1, 0, 4],\n",
       "       [6, 1, 1, 0],\n",
       "       [1, 3, 0, 0]])"
      ]
     },
     "execution_count": 123,
     "metadata": {},
     "output_type": "execute_result"
    }
   ],
   "source": [
    "arr2 & arr12"
   ]
  },
  {
   "cell_type": "code",
   "execution_count": 124,
   "id": "6c72974f-be88-411e-8db4-d550ed3fdec9",
   "metadata": {},
   "outputs": [
    {
     "data": {
      "text/plain": [
       "array([[1, 1, 2, 7],\n",
       "       [6, 3, 1, 6],\n",
       "       [1, 3, 9, 8]])"
      ]
     },
     "execution_count": 124,
     "metadata": {},
     "output_type": "execute_result"
    }
   ],
   "source": [
    "arr2"
   ]
  },
  {
   "cell_type": "code",
   "execution_count": 125,
   "id": "36078055-51a1-4b08-a26b-640c7136f0b4",
   "metadata": {},
   "outputs": [
    {
     "data": {
      "text/plain": [
       "array([[7, 7, 8, 4],\n",
       "       [6, 1, 1, 8],\n",
       "       [9, 7, 6, 3]])"
      ]
     },
     "execution_count": 125,
     "metadata": {},
     "output_type": "execute_result"
    }
   ],
   "source": [
    "arr12"
   ]
  },
  {
   "cell_type": "code",
   "execution_count": 126,
   "id": "2e04e017-c26f-4c5b-996a-9b76bc26a011",
   "metadata": {},
   "outputs": [
    {
     "data": {
      "text/plain": [
       "array([[-1, -1, -2, -7],\n",
       "       [-6, -3, -1, -6],\n",
       "       [-1, -3, -9, -8]])"
      ]
     },
     "execution_count": 126,
     "metadata": {},
     "output_type": "execute_result"
    }
   ],
   "source": [
    "- arr2"
   ]
  },
  {
   "cell_type": "code",
   "execution_count": 127,
   "id": "112a554f-68ee-4efc-88c5-4270ad95f756",
   "metadata": {},
   "outputs": [
    {
     "data": {
      "text/plain": [
       "array([[ 7,  7, 10,  7],\n",
       "       [ 6,  3,  1, 14],\n",
       "       [ 9,  7, 15, 11]])"
      ]
     },
     "execution_count": 127,
     "metadata": {},
     "output_type": "execute_result"
    }
   ],
   "source": [
    "arr2 | arr12"
   ]
  },
  {
   "cell_type": "code",
   "execution_count": 128,
   "id": "7f86acd0-1f87-4fa0-a0de-3b3b671e9a96",
   "metadata": {},
   "outputs": [
    {
     "data": {
      "text/plain": [
       "array([[False, False, False,  True],\n",
       "       [False,  True, False, False],\n",
       "       [False, False,  True,  True]])"
      ]
     },
     "execution_count": 128,
     "metadata": {},
     "output_type": "execute_result"
    }
   ],
   "source": [
    "arr2>arr12"
   ]
  },
  {
   "cell_type": "code",
   "execution_count": 129,
   "id": "ab4dc1a3-23bb-4ab5-95c2-9255531b7454",
   "metadata": {},
   "outputs": [],
   "source": [
    "#numpy = string operation"
   ]
  },
  {
   "cell_type": "code",
   "execution_count": 130,
   "id": "2551114c-5f81-45ec-90e3-f0cf0104fad6",
   "metadata": {},
   "outputs": [],
   "source": [
    "arr = np.array(['suraj', 'kumar'])"
   ]
  },
  {
   "cell_type": "code",
   "execution_count": 131,
   "id": "eec6c07f-7578-40ba-8ae6-ad5978482a8e",
   "metadata": {},
   "outputs": [
    {
     "data": {
      "text/plain": [
       "array(['suraj', 'kumar'], dtype='<U5')"
      ]
     },
     "execution_count": 131,
     "metadata": {},
     "output_type": "execute_result"
    }
   ],
   "source": [
    "arr"
   ]
  },
  {
   "cell_type": "code",
   "execution_count": 132,
   "id": "7d62e7d5-dbbf-4c49-b57e-11ed1f934971",
   "metadata": {},
   "outputs": [
    {
     "data": {
      "text/plain": [
       "array(['SURAJ', 'KUMAR'], dtype='<U5')"
      ]
     },
     "execution_count": 132,
     "metadata": {},
     "output_type": "execute_result"
    }
   ],
   "source": [
    "np.char.upper(arr)"
   ]
  },
  {
   "cell_type": "code",
   "execution_count": 133,
   "id": "0a6d772d-6e8a-4858-bc01-91fcaf7a98a3",
   "metadata": {},
   "outputs": [
    {
     "data": {
      "text/plain": [
       "array(['Suraj', 'Kumar'], dtype='<U5')"
      ]
     },
     "execution_count": 133,
     "metadata": {},
     "output_type": "execute_result"
    }
   ],
   "source": [
    "np.char.title(arr)"
   ]
  },
  {
   "cell_type": "code",
   "execution_count": 134,
   "id": "0fed7c2e-6cca-41ef-a5eb-06155cba6e29",
   "metadata": {},
   "outputs": [
    {
     "data": {
      "text/plain": [
       "array(['Suraj', 'Kumar'], dtype='<U5')"
      ]
     },
     "execution_count": 134,
     "metadata": {},
     "output_type": "execute_result"
    }
   ],
   "source": [
    "np.char.capitalize(arr)"
   ]
  },
  {
   "cell_type": "code",
   "execution_count": 135,
   "id": "deafea72-d5c8-488c-baeb-72c5b084d6d9",
   "metadata": {},
   "outputs": [],
   "source": [
    "#numpy - mathematical function "
   ]
  },
  {
   "cell_type": "code",
   "execution_count": 136,
   "id": "93391b33-64b1-424a-a546-e56c3008b19e",
   "metadata": {},
   "outputs": [
    {
     "data": {
      "text/plain": [
       "array([1, 2, 3, 4])"
      ]
     },
     "execution_count": 136,
     "metadata": {},
     "output_type": "execute_result"
    }
   ],
   "source": [
    "arr1"
   ]
  },
  {
   "cell_type": "code",
   "execution_count": 137,
   "id": "89bd4a20-3dc4-4c39-a202-5dc7fd7942c1",
   "metadata": {},
   "outputs": [
    {
     "data": {
      "text/plain": [
       "array([[1, 1, 2, 7],\n",
       "       [6, 3, 1, 6],\n",
       "       [1, 3, 9, 8]])"
      ]
     },
     "execution_count": 137,
     "metadata": {},
     "output_type": "execute_result"
    }
   ],
   "source": [
    "arr2"
   ]
  },
  {
   "cell_type": "code",
   "execution_count": 138,
   "id": "e3787782-239b-43da-b92e-2f390f9a9545",
   "metadata": {},
   "outputs": [
    {
     "data": {
      "text/plain": [
       "array([[ 0.84147098,  0.84147098,  0.90929743,  0.6569866 ],\n",
       "       [-0.2794155 ,  0.14112001,  0.84147098, -0.2794155 ],\n",
       "       [ 0.84147098,  0.14112001,  0.41211849,  0.98935825]])"
      ]
     },
     "execution_count": 138,
     "metadata": {},
     "output_type": "execute_result"
    }
   ],
   "source": [
    "np.sin(arr2)"
   ]
  },
  {
   "cell_type": "code",
   "execution_count": 139,
   "id": "12f461c9-7534-4bfa-97f1-3083b10a3a47",
   "metadata": {},
   "outputs": [
    {
     "data": {
      "text/plain": [
       "array([[ 0.54030231,  0.54030231, -0.41614684,  0.75390225],\n",
       "       [ 0.96017029, -0.9899925 ,  0.54030231,  0.96017029],\n",
       "       [ 0.54030231, -0.9899925 , -0.91113026, -0.14550003]])"
      ]
     },
     "execution_count": 139,
     "metadata": {},
     "output_type": "execute_result"
    }
   ],
   "source": [
    "np.cos(arr2)"
   ]
  },
  {
   "cell_type": "code",
   "execution_count": 140,
   "id": "d6de84a8-afd7-4b3b-8af0-389e03622a3a",
   "metadata": {},
   "outputs": [
    {
     "data": {
      "text/plain": [
       "array([[ 1.55740772,  1.55740772, -2.18503986,  0.87144798],\n",
       "       [-0.29100619, -0.14254654,  1.55740772, -0.29100619],\n",
       "       [ 1.55740772, -0.14254654, -0.45231566, -6.79971146]])"
      ]
     },
     "execution_count": 140,
     "metadata": {},
     "output_type": "execute_result"
    }
   ],
   "source": [
    "np.tan(arr2)"
   ]
  },
  {
   "cell_type": "code",
   "execution_count": 141,
   "id": "41cbd094-2e7f-4168-82bc-30c38220a1b4",
   "metadata": {},
   "outputs": [
    {
     "data": {
      "text/plain": [
       "array([[0.        , 0.        , 0.69314718, 1.94591015],\n",
       "       [1.79175947, 1.09861229, 0.        , 1.79175947],\n",
       "       [0.        , 1.09861229, 2.19722458, 2.07944154]])"
      ]
     },
     "execution_count": 141,
     "metadata": {},
     "output_type": "execute_result"
    }
   ],
   "source": [
    "np.log(arr2)"
   ]
  },
  {
   "cell_type": "code",
   "execution_count": 142,
   "id": "6ddfa10b-c49f-4023-94da-52dd2d9230c2",
   "metadata": {},
   "outputs": [
    {
     "data": {
      "text/plain": [
       "array([[2.71828183e+00, 2.71828183e+00, 7.38905610e+00, 1.09663316e+03],\n",
       "       [4.03428793e+02, 2.00855369e+01, 2.71828183e+00, 4.03428793e+02],\n",
       "       [2.71828183e+00, 2.00855369e+01, 8.10308393e+03, 2.98095799e+03]])"
      ]
     },
     "execution_count": 142,
     "metadata": {},
     "output_type": "execute_result"
    }
   ],
   "source": [
    "np.exp(arr2)"
   ]
  },
  {
   "cell_type": "code",
   "execution_count": 143,
   "id": "7672bcc6-736e-4b41-9f8f-e377801c524e",
   "metadata": {},
   "outputs": [
    {
     "data": {
      "text/plain": [
       "array([[1.        , 1.        , 1.41421356, 2.64575131],\n",
       "       [2.44948974, 1.73205081, 1.        , 2.44948974],\n",
       "       [1.        , 1.73205081, 3.        , 2.82842712]])"
      ]
     },
     "execution_count": 143,
     "metadata": {},
     "output_type": "execute_result"
    }
   ],
   "source": [
    "np.sqrt(arr2)"
   ]
  },
  {
   "cell_type": "code",
   "execution_count": 145,
   "id": "3df72d84-f63a-4fe6-a296-86f2e2700197",
   "metadata": {},
   "outputs": [
    {
     "data": {
      "text/plain": [
       "array([[ 1,  1,  4, 49],\n",
       "       [36,  9,  1, 36],\n",
       "       [ 1,  9, 81, 64]])"
      ]
     },
     "execution_count": 145,
     "metadata": {},
     "output_type": "execute_result"
    }
   ],
   "source": [
    "np.power(arr2, 2)"
   ]
  },
  {
   "cell_type": "code",
   "execution_count": 146,
   "id": "d0a72b57-9cf4-486e-b00d-935dd40d8358",
   "metadata": {},
   "outputs": [
    {
     "data": {
      "text/plain": [
       "4.0"
      ]
     },
     "execution_count": 146,
     "metadata": {},
     "output_type": "execute_result"
    }
   ],
   "source": [
    "np.mean(arr2)"
   ]
  },
  {
   "cell_type": "code",
   "execution_count": 148,
   "id": "1c588d3c-4c4f-48d3-b440-2070a4ce927a",
   "metadata": {},
   "outputs": [
    {
     "ename": "TypeError",
     "evalue": "remainder() takes from 2 to 3 positional arguments but 1 were given",
     "output_type": "error",
     "traceback": [
      "\u001b[0;31m---------------------------------------------------------------------------\u001b[0m",
      "\u001b[0;31mTypeError\u001b[0m                                 Traceback (most recent call last)",
      "Cell \u001b[0;32mIn[148], line 1\u001b[0m\n\u001b[0;32m----> 1\u001b[0m \u001b[43mnp\u001b[49m\u001b[38;5;241;43m.\u001b[39;49m\u001b[43mmod\u001b[49m\u001b[43m(\u001b[49m\u001b[43marr2\u001b[49m\u001b[43m)\u001b[49m\n",
      "\u001b[0;31mTypeError\u001b[0m: remainder() takes from 2 to 3 positional arguments but 1 were given"
     ]
    }
   ],
   "source": [
    "np.mod(arr2)"
   ]
  },
  {
   "cell_type": "code",
   "execution_count": null,
   "id": "58f19111-e134-470f-a80c-89a8e63ec23b",
   "metadata": {},
   "outputs": [],
   "source": []
  }
 ],
 "metadata": {
  "kernelspec": {
   "display_name": "Python 3 (ipykernel)",
   "language": "python",
   "name": "python3"
  },
  "language_info": {
   "codemirror_mode": {
    "name": "ipython",
    "version": 3
   },
   "file_extension": ".py",
   "mimetype": "text/x-python",
   "name": "python",
   "nbconvert_exporter": "python",
   "pygments_lexer": "ipython3",
   "version": "3.10.8"
  }
 },
 "nbformat": 4,
 "nbformat_minor": 5
}
