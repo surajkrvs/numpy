{
 "cells": [
  {
   "cell_type": "code",
   "execution_count": 9,
   "id": "50158e44-923d-45dd-bcff-202b8e334bde",
   "metadata": {},
   "outputs": [],
   "source": [
    "import numpy as np"
   ]
  },
  {
   "cell_type": "code",
   "execution_count": 10,
   "id": "9f1489b0-7b85-4ff9-9245-9aad7ce88d97",
   "metadata": {},
   "outputs": [],
   "source": [
    "#sort, search & counting functions"
   ]
  },
  {
   "cell_type": "code",
   "execution_count": 43,
   "id": "13a2a878-3c4a-4859-bfd8-9d85a28d4270",
   "metadata": {},
   "outputs": [],
   "source": [
    "arr = np.array([1,2,3,4,5,6,7,8,11,9,10])"
   ]
  },
  {
   "cell_type": "code",
   "execution_count": 44,
   "id": "2fae2444-991c-4c14-acf8-6c1be2cb2f56",
   "metadata": {},
   "outputs": [
    {
     "data": {
      "text/plain": [
       "array([ 1,  2,  3,  4,  5,  6,  7,  8,  9, 10, 11])"
      ]
     },
     "execution_count": 44,
     "metadata": {},
     "output_type": "execute_result"
    }
   ],
   "source": [
    "np.sort(arr)"
   ]
  },
  {
   "cell_type": "code",
   "execution_count": 45,
   "id": "df11ae1e-d9d0-44c8-813f-11ece4363991",
   "metadata": {},
   "outputs": [
    {
     "data": {
      "text/plain": [
       "11"
      ]
     },
     "execution_count": 45,
     "metadata": {},
     "output_type": "execute_result"
    }
   ],
   "source": [
    "np.searchsorted(arr,34)"
   ]
  },
  {
   "cell_type": "code",
   "execution_count": 46,
   "id": "ab97997a-409f-4d0d-92a5-45910ae3ed13",
   "metadata": {},
   "outputs": [],
   "source": [
    "arr1 = np.array([0,345,450,0,0,0,0,0])"
   ]
  },
  {
   "cell_type": "code",
   "execution_count": 47,
   "id": "e25413e7-ded9-416a-b8d5-5c20d52cdcd0",
   "metadata": {},
   "outputs": [
    {
     "data": {
      "text/plain": [
       "2"
      ]
     },
     "execution_count": 47,
     "metadata": {},
     "output_type": "execute_result"
    }
   ],
   "source": [
    "np.count_nonzero(arr1)"
   ]
  },
  {
   "cell_type": "code",
   "execution_count": 48,
   "id": "3376537d-e0e2-458b-b0d2-4495501d8bec",
   "metadata": {},
   "outputs": [
    {
     "data": {
      "text/plain": [
       "array([ 1,  2,  3,  4,  5,  6,  7,  8, 11,  9, 10])"
      ]
     },
     "execution_count": 48,
     "metadata": {},
     "output_type": "execute_result"
    }
   ],
   "source": [
    "arr"
   ]
  },
  {
   "cell_type": "code",
   "execution_count": 49,
   "id": "f8cd0f7f-d55f-451f-b31d-0c4ecee5e1f3",
   "metadata": {},
   "outputs": [
    {
     "data": {
      "text/plain": [
       "(array([ 6,  7,  8,  9, 10]),)"
      ]
     },
     "execution_count": 49,
     "metadata": {},
     "output_type": "execute_result"
    }
   ],
   "source": [
    "np.where(arr>6)"
   ]
  },
  {
   "cell_type": "code",
   "execution_count": 50,
   "id": "d520b906-c211-47b6-aecf-922890b90bb9",
   "metadata": {},
   "outputs": [
    {
     "data": {
      "text/plain": [
       "array([ 7,  8, 11,  9, 10])"
      ]
     },
     "execution_count": 50,
     "metadata": {},
     "output_type": "execute_result"
    }
   ],
   "source": [
    "np.extract(arr>6, arr)"
   ]
  },
  {
   "cell_type": "code",
   "execution_count": 51,
   "id": "49ba18cc-7b01-4ae8-9e62-b75f29328215",
   "metadata": {},
   "outputs": [
    {
     "data": {
      "text/plain": [
       "array([ 4,  5,  6,  7,  8, 11,  9, 10])"
      ]
     },
     "execution_count": 51,
     "metadata": {},
     "output_type": "execute_result"
    }
   ],
   "source": [
    "np.extract(arr>3, arr)"
   ]
  },
  {
   "cell_type": "code",
   "execution_count": 52,
   "id": "84834627-83b4-4a49-8d26-de947f313fa7",
   "metadata": {},
   "outputs": [
    {
     "data": {
      "text/plain": [
       "array([ 72057594037927936, 144115188075855872, 216172782113783808,\n",
       "       288230376151711744, 360287970189639680, 432345564227567616,\n",
       "       504403158265495552, 576460752303423488, 792633534417207296,\n",
       "       648518346341351424, 720575940379279360])"
      ]
     },
     "execution_count": 52,
     "metadata": {},
     "output_type": "execute_result"
    }
   ],
   "source": [
    "arr.byteswap()"
   ]
  },
  {
   "cell_type": "code",
   "execution_count": 53,
   "id": "da560c09-5441-4186-b34b-bf2b5b11205d",
   "metadata": {},
   "outputs": [
    {
     "data": {
      "text/plain": [
       "array([ 1,  2,  3,  4,  5,  6,  7,  8, 11,  9, 10])"
      ]
     },
     "execution_count": 53,
     "metadata": {},
     "output_type": "execute_result"
    }
   ],
   "source": [
    "arr"
   ]
  },
  {
   "cell_type": "code",
   "execution_count": 54,
   "id": "d0976331-21e7-4921-9b9b-4d6c2ef45af8",
   "metadata": {},
   "outputs": [],
   "source": [
    "a = np.copy(arr)\n",
    "#deep copy"
   ]
  },
  {
   "cell_type": "code",
   "execution_count": 55,
   "id": "3c5ea87d-dd68-4f2b-b51a-2bf07da3af9d",
   "metadata": {},
   "outputs": [
    {
     "data": {
      "text/plain": [
       "array([ 1,  2,  3,  4,  5,  6,  7,  8, 11,  9, 10])"
      ]
     },
     "execution_count": 55,
     "metadata": {},
     "output_type": "execute_result"
    }
   ],
   "source": [
    "a"
   ]
  },
  {
   "cell_type": "code",
   "execution_count": 56,
   "id": "fa4fa621-189e-46bb-8bf9-fbf5dfea4a2a",
   "metadata": {},
   "outputs": [],
   "source": [
    "b = arr.view()\n",
    "#swallow copy"
   ]
  },
  {
   "cell_type": "code",
   "execution_count": null,
   "id": "24c0d90f-4721-4fff-9353-ecd57b6773be",
   "metadata": {},
   "outputs": [],
   "source": [
    "b = arr"
   ]
  },
  {
   "cell_type": "code",
   "execution_count": 57,
   "id": "43768e19-5e47-4ea7-bba8-e2d04fc5d19d",
   "metadata": {},
   "outputs": [
    {
     "data": {
      "text/plain": [
       "array([ 1,  2,  3,  4,  5,  6,  7,  8, 11,  9, 10])"
      ]
     },
     "execution_count": 57,
     "metadata": {},
     "output_type": "execute_result"
    }
   ],
   "source": [
    "b"
   ]
  },
  {
   "cell_type": "code",
   "execution_count": 58,
   "id": "5aafbd18-7ade-4cd0-ab67-4136c7b12c7d",
   "metadata": {},
   "outputs": [
    {
     "data": {
      "text/plain": [
       "array([ 1,  2,  3,  4,  5,  6,  7,  8, 11,  9, 10])"
      ]
     },
     "execution_count": 58,
     "metadata": {},
     "output_type": "execute_result"
    }
   ],
   "source": [
    "arr"
   ]
  },
  {
   "cell_type": "code",
   "execution_count": 59,
   "id": "a46bed68-6a1f-419c-8f81-76321e82471c",
   "metadata": {},
   "outputs": [],
   "source": [
    "b[0] = 67"
   ]
  },
  {
   "cell_type": "code",
   "execution_count": 60,
   "id": "2f7ea64c-7268-47f5-a2b6-9310574d7c0f",
   "metadata": {},
   "outputs": [
    {
     "data": {
      "text/plain": [
       "array([67,  2,  3,  4,  5,  6,  7,  8, 11,  9, 10])"
      ]
     },
     "execution_count": 60,
     "metadata": {},
     "output_type": "execute_result"
    }
   ],
   "source": [
    "b"
   ]
  },
  {
   "cell_type": "code",
   "execution_count": 61,
   "id": "d76cfb37-9eb9-4bc5-b963-8e1e3825191d",
   "metadata": {},
   "outputs": [
    {
     "data": {
      "text/plain": [
       "array([67,  2,  3,  4,  5,  6,  7,  8, 11,  9, 10])"
      ]
     },
     "execution_count": 61,
     "metadata": {},
     "output_type": "execute_result"
    }
   ],
   "source": [
    "arr"
   ]
  },
  {
   "cell_type": "code",
   "execution_count": 62,
   "id": "dcf98fbd-9dff-4559-9ce8-dd4a8348802b",
   "metadata": {},
   "outputs": [],
   "source": [
    "#numpy - matrixliberary"
   ]
  },
  {
   "cell_type": "code",
   "execution_count": 63,
   "id": "9b1f83d8-b39d-4e27-9903-de2ced230b60",
   "metadata": {},
   "outputs": [],
   "source": [
    "import numpy.matlib as nm"
   ]
  },
  {
   "cell_type": "code",
   "execution_count": 70,
   "id": "2417f164-f3ed-4e4b-b3da-c3771fc878e5",
   "metadata": {},
   "outputs": [
    {
     "data": {
      "text/plain": [
       "matrix([[0., 0., 0.]])"
      ]
     },
     "execution_count": 70,
     "metadata": {},
     "output_type": "execute_result"
    }
   ],
   "source": [
    "nm.zeros(3)"
   ]
  },
  {
   "cell_type": "code",
   "execution_count": 67,
   "id": "2541c8b6-2688-4eb4-bcdd-f1100cefa82b",
   "metadata": {},
   "outputs": [
    {
     "data": {
      "text/plain": [
       "matrix([[1., 1., 1., 1.],\n",
       "        [1., 1., 1., 1.],\n",
       "        [1., 1., 1., 1.]])"
      ]
     },
     "execution_count": 67,
     "metadata": {},
     "output_type": "execute_result"
    }
   ],
   "source": [
    "nm.ones((3,4))"
   ]
  },
  {
   "cell_type": "code",
   "execution_count": 68,
   "id": "4005699b-bd8f-4cc0-abe5-8adced51e1ea",
   "metadata": {},
   "outputs": [
    {
     "data": {
      "text/plain": [
       "matrix([[1., 0., 0., 0., 0.],\n",
       "        [0., 1., 0., 0., 0.],\n",
       "        [0., 0., 1., 0., 0.],\n",
       "        [0., 0., 0., 1., 0.],\n",
       "        [0., 0., 0., 0., 1.]])"
      ]
     },
     "execution_count": 68,
     "metadata": {},
     "output_type": "execute_result"
    }
   ],
   "source": [
    "nm.eye(5)\n",
    "#identity matrix"
   ]
  },
  {
   "cell_type": "code",
   "execution_count": 72,
   "id": "27c47cf7-1c64-416a-b96f-9d4182efd0c9",
   "metadata": {},
   "outputs": [],
   "source": [
    "ar1 = np.random.randint([[2,3], [4,5]])"
   ]
  },
  {
   "cell_type": "code",
   "execution_count": 73,
   "id": "b1cb6328-fe3e-41a1-a9e2-95fb0581eb36",
   "metadata": {},
   "outputs": [],
   "source": [
    "ar2 = np.random.randint([[2,3], [4,5]])"
   ]
  },
  {
   "cell_type": "code",
   "execution_count": 74,
   "id": "28fd1e11-d8b3-427f-a71c-e6a16a92ecd5",
   "metadata": {},
   "outputs": [
    {
     "data": {
      "text/plain": [
       "array([[0, 1],\n",
       "       [1, 0]])"
      ]
     },
     "execution_count": 74,
     "metadata": {},
     "output_type": "execute_result"
    }
   ],
   "source": [
    "ar1"
   ]
  },
  {
   "cell_type": "code",
   "execution_count": 75,
   "id": "b96707f4-01d1-4817-a11a-f07aae1a2117",
   "metadata": {},
   "outputs": [
    {
     "data": {
      "text/plain": [
       "array([[0, 2],\n",
       "       [0, 0]])"
      ]
     },
     "execution_count": 75,
     "metadata": {},
     "output_type": "execute_result"
    }
   ],
   "source": [
    "ar2"
   ]
  },
  {
   "cell_type": "code",
   "execution_count": null,
   "id": "77ce5eb6-bbdf-4584-86c9-75f582f90dad",
   "metadata": {},
   "outputs": [],
   "source": []
  }
 ],
 "metadata": {
  "kernelspec": {
   "display_name": "Python 3 (ipykernel)",
   "language": "python",
   "name": "python3"
  },
  "language_info": {
   "codemirror_mode": {
    "name": "ipython",
    "version": 3
   },
   "file_extension": ".py",
   "mimetype": "text/x-python",
   "name": "python",
   "nbconvert_exporter": "python",
   "pygments_lexer": "ipython3",
   "version": "3.10.8"
  }
 },
 "nbformat": 4,
 "nbformat_minor": 5
}
